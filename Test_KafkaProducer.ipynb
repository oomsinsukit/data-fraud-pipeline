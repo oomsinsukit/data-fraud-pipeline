{
 "cells": [
  {
   "cell_type": "code",
   "execution_count": 2,
   "id": "f19405f0",
   "metadata": {},
   "outputs": [],
   "source": [
    "import pandas as pd\n",
    "from kafka import KafkaProducer\n",
    "from time import sleep\n",
    "from json import dumps\n",
    "import json"
   ]
  },
  {
   "cell_type": "code",
   "execution_count": 2,
   "id": "0cf884de",
   "metadata": {},
   "outputs": [],
   "source": [
    "test_df = pd.read_csv(\"./creditcard_fraud.csv\") #ข้อมูลที่เป็น fraud"
   ]
  },
  {
   "cell_type": "code",
   "execution_count": 10,
   "id": "c2d8a35b",
   "metadata": {},
   "outputs": [],
   "source": [
    "test_df = pd.read_csv(\"./test.csv\") #ข้อมูล test มีทั้ง fraud และไม่ fraud"
   ]
  },
  {
   "cell_type": "code",
   "execution_count": 3,
   "id": "b483a0e4",
   "metadata": {},
   "outputs": [],
   "source": [
    "producer = KafkaProducer(bootstrap_servers=['localhost:9092'],\n",
    "                         value_serializer=lambda x: \n",
    "                         dumps(x).encode('utf-8'))"
   ]
  },
  {
   "cell_type": "code",
   "execution_count": null,
   "id": "9fc8fdbf",
   "metadata": {},
   "outputs": [],
   "source": [
    "while True:\n",
    "    dict_stock = test_df.sample(1).to_dict(orient=\"records\")[0]\n",
    "    producer.send('transactions', value=dict_stock)\n",
    "    sleep(1)"
   ]
  },
  {
   "cell_type": "code",
   "execution_count": 14,
   "id": "ed71c0e4",
   "metadata": {},
   "outputs": [],
   "source": [
    "producer.flush() #ลบข้อมูล kafka server"
   ]
  }
 ],
 "metadata": {
  "kernelspec": {
   "display_name": ".venv",
   "language": "python",
   "name": "python3"
  },
  "language_info": {
   "codemirror_mode": {
    "name": "ipython",
    "version": 3
   },
   "file_extension": ".py",
   "mimetype": "text/x-python",
   "name": "python",
   "nbconvert_exporter": "python",
   "pygments_lexer": "ipython3",
   "version": "3.11.4"
  }
 },
 "nbformat": 4,
 "nbformat_minor": 5
}
